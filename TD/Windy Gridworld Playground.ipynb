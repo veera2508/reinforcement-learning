{
 "cells": [
  {
   "cell_type": "code",
   "execution_count": 1,
   "metadata": {},
   "outputs": [],
   "source": [
    "import gym\n",
    "import numpy as np\n",
    "import sys\n",
    "\n",
    "if \"../\" not in sys.path:\n",
    "  sys.path.append(\"../\") \n",
    "\n",
    "from lib.envs.windy_gridworld import WindyGridworldEnv"
   ]
  },
  {
   "cell_type": "code",
   "execution_count": 2,
   "metadata": {
    "tags": []
   },
   "outputs": [
    {
     "output_type": "stream",
     "name": "stdout",
     "text": "30\no  o  o  o  o  o  o  o  o  o\no  o  o  o  o  o  o  o  o  o\no  o  o  o  o  o  o  o  o  o\nx  o  o  o  o  o  o  T  o  o\no  o  o  o  o  o  o  o  o  o\no  o  o  o  o  o  o  o  o  o\no  o  o  o  o  o  o  o  o  o\n\n(31, -1.0, False, {'prob': 1.0})\no  o  o  o  o  o  o  o  o  o\no  o  o  o  o  o  o  o  o  o\no  o  o  o  o  o  o  o  o  o\no  x  o  o  o  o  o  T  o  o\no  o  o  o  o  o  o  o  o  o\no  o  o  o  o  o  o  o  o  o\no  o  o  o  o  o  o  o  o  o\n\n(32, -1.0, False, {'prob': 1.0})\no  o  o  o  o  o  o  o  o  o\no  o  o  o  o  o  o  o  o  o\no  o  o  o  o  o  o  o  o  o\no  o  x  o  o  o  o  T  o  o\no  o  o  o  o  o  o  o  o  o\no  o  o  o  o  o  o  o  o  o\no  o  o  o  o  o  o  o  o  o\n\n(33, -1.0, False, {'prob': 1.0})\no  o  o  o  o  o  o  o  o  o\no  o  o  o  o  o  o  o  o  o\no  o  o  o  o  o  o  o  o  o\no  o  o  x  o  o  o  T  o  o\no  o  o  o  o  o  o  o  o  o\no  o  o  o  o  o  o  o  o  o\no  o  o  o  o  o  o  o  o  o\n\n(33, -1.0, False, {'prob': 1.0})\no  o  o  o  o  o  o  o  o  o\no  o  o  o  o  o  o  o  o  o\no  o  o  o  o  o  o  o  o  o\no  o  o  x  o  o  o  T  o  o\no  o  o  o  o  o  o  o  o  o\no  o  o  o  o  o  o  o  o  o\no  o  o  o  o  o  o  o  o  o\n\n(24, -1.0, False, {'prob': 1.0})\no  o  o  o  o  o  o  o  o  o\no  o  o  o  o  o  o  o  o  o\no  o  o  o  x  o  o  o  o  o\no  o  o  o  o  o  o  T  o  o\no  o  o  o  o  o  o  o  o  o\no  o  o  o  o  o  o  o  o  o\no  o  o  o  o  o  o  o  o  o\n\n(15, -1.0, False, {'prob': 1.0})\no  o  o  o  o  o  o  o  o  o\no  o  o  o  o  x  o  o  o  o\no  o  o  o  o  o  o  o  o  o\no  o  o  o  o  o  o  T  o  o\no  o  o  o  o  o  o  o  o  o\no  o  o  o  o  o  o  o  o  o\no  o  o  o  o  o  o  o  o  o\n\n"
    }
   ],
   "source": [
    "env = WindyGridworldEnv()\n",
    "\n",
    "print(env.reset())\n",
    "env.render()\n",
    "\n",
    "print(env.step(1))\n",
    "env.render()\n",
    "\n",
    "print(env.step(1))\n",
    "env.render()\n",
    "\n",
    "print(env.step(1))\n",
    "env.render()\n",
    "\n",
    "print(env.step(2))\n",
    "env.render()\n",
    "\n",
    "print(env.step(1))\n",
    "env.render()\n",
    "\n",
    "print(env.step(1))\n",
    "env.render()"
   ]
  },
  {
   "cell_type": "code",
   "execution_count": null,
   "metadata": {},
   "outputs": [],
   "source": []
  }
 ],
 "metadata": {
  "kernelspec": {
   "display_name": "Python 3",
   "language": "python",
   "name": "python3"
  },
  "language_info": {
   "codemirror_mode": {
    "name": "ipython",
    "version": 3
   },
   "file_extension": ".py",
   "mimetype": "text/x-python",
   "name": "python",
   "nbconvert_exporter": "python",
   "pygments_lexer": "ipython3",
   "version": "3.7.7-final"
  }
 },
 "nbformat": 4,
 "nbformat_minor": 1
}